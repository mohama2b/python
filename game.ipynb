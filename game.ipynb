{
 "cells": [
  {
   "cell_type": "code",
   "execution_count": 30,
   "metadata": {},
   "outputs": [
    {
     "name": "stdout",
     "output_type": "stream",
     "text": [
      "enter number of trials: 2\n",
      "Enter a number between 0 and 10:5\n",
      "Too High\n",
      "Try again, Enter a number between 0 and 10:3\n",
      "Great you got the correct number\n",
      "Your Remaining Trials = 0\n"
     ]
    }
   ],
   "source": [
    "import random \n",
    "mynum = random.randint(0,10) \n",
    "\n",
    "trials = int(input (\"enter number of trials: \"))\n",
    "counter = 1      \n",
    "guess = int(input(\"Enter a number between 0 and 10:\"))\n",
    "\n",
    "\n",
    "while guess != mynum and counter < trials :\n",
    "    if guess < mynum:\n",
    "        print(\"Too Low\")\n",
    "    else:\n",
    "        print(\"Too High\")\n",
    "    guess = int(input(\"Try again, Enter a number between 0 and 10:\"))\n",
    "    counter = counter + 1\n",
    "\n",
    "if guess == mynum:\n",
    "    print(\"Great you got the correct number\")\n",
    "else:\n",
    "    print(\"Game Over\")\n",
    "print(\"Your Remaining Trials =\" , trials - counter)\n"
   ]
  },
  {
   "cell_type": "code",
   "execution_count": null,
   "metadata": {},
   "outputs": [],
   "source": []
  },
  {
   "cell_type": "code",
   "execution_count": null,
   "metadata": {},
   "outputs": [],
   "source": []
  }
 ],
 "metadata": {
  "kernelspec": {
   "display_name": "Python 3",
   "language": "python",
   "name": "python3"
  },
  "language_info": {
   "codemirror_mode": {
    "name": "ipython",
    "version": 3
   },
   "file_extension": ".py",
   "mimetype": "text/x-python",
   "name": "python",
   "nbconvert_exporter": "python",
   "pygments_lexer": "ipython3",
   "version": "3.8.5"
  }
 },
 "nbformat": 4,
 "nbformat_minor": 4
}
